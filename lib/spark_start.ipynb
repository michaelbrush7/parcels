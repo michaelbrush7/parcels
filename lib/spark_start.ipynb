{
 "cells": [
  {
   "cell_type": "code",
   "execution_count": 1,
   "id": "ff7a48d8-7afa-4b05-9144-9450e21debfe",
   "metadata": {},
   "outputs": [],
   "source": [
    "from pyspark.sql import SparkSession\n",
    "import requests\n",
    "import pandas as pd\n",
    "from pyspark.sql import SparkSession, functions as F\n",
    "from pyspark.sql.types import DataType, StructType, StructField, StringType, IntegerType, DoubleType"
   ]
  },
  {
   "cell_type": "code",
   "execution_count": 2,
   "id": "2fca7fec-0968-4340-b2b7-2e78781eb72d",
   "metadata": {},
   "outputs": [],
   "source": [
    "spark = SparkSession.builder.getOrCreate()\n",
    "url = \"https://maps.stlouisco.com/arcgis/rest/services/OpenData/OpenData/FeatureServer/7/query?where=1%3D1&outFields=*&geometry=-90.454%2C38.723%2C-90.381%2C38.746&geometryType=esriGeometryEnvelope&inSR=4326&spatialRel=esriSpatialRelIntersects&outSR=4326&f=json\"\n",
    "s = requests.get(url).json()\n",
    "df = pd.json_normalize(s, record_path=\"features\")\n",
    "df.columns = df.columns.str.lstrip('attributes.')"
   ]
  },
  {
   "cell_type": "code",
   "execution_count": 3,
   "id": "0df026db-ca53-4184-954b-2c60083f5fac",
   "metadata": {},
   "outputs": [],
   "source": [
    "#df.printSchema()\n",
    "schema = StructType()\n",
    "for feature in s['fields']:\n",
    "    if feature['type'] == 'esriFieldTypeString':\n",
    "        schema.add(feature['name'], StringType(), True)\n",
    "    elif feature['type'] == 'esriFieldTypeSmallInteger':\n",
    "        schema.add(feature['name'], IntegerType(), True)\n",
    "    elif feature['type'] == 'esriFieldTypeDouble':\n",
    "        schema.add(feature['name'], StringType(), True)\n",
    "    else:\n",
    "        schema.add(feature['name'], StringType(), True)\n",
    "schema = schema.add(\"geometry.rings\", StringType(), True)\n",
    "    "
   ]
  },
  {
   "cell_type": "code",
   "execution_count": 4,
   "id": "b8ba9a64-0b44-44d2-88fb-bbd9a0833ecc",
   "metadata": {},
   "outputs": [],
   "source": [
    "sdf = spark.createDataFrame(data=df, schema=schema)"
   ]
  },
  {
   "cell_type": "code",
   "execution_count": 5,
   "id": "a607bdc9-39fc-4054-aede-db4d6c039762",
   "metadata": {},
   "outputs": [
    {
     "name": "stdout",
     "output_type": "stream",
     "text": [
      "root\n",
      " |-- OBJECTID: string (nullable = true)\n",
      " |-- PARENT_LOC: string (nullable = true)\n",
      " |-- LOCATOR: string (nullable = true)\n",
      " |-- TAXYR: integer (nullable = true)\n",
      " |-- OWNER_NAME: string (nullable = true)\n",
      " |-- PROP_ADRNUM: string (nullable = true)\n",
      " |-- PROP_ADD: string (nullable = true)\n",
      " |-- PROP_ZIP: string (nullable = true)\n",
      " |-- OWN_ADD: string (nullable = true)\n",
      " |-- OWN_CITY: string (nullable = true)\n",
      " |-- OWN_STATE: string (nullable = true)\n",
      " |-- OWN_ZIP: string (nullable = true)\n",
      " |-- SCHSUB: string (nullable = true)\n",
      " |-- MUNYCODE: string (nullable = true)\n",
      " |-- SUBDIVISION: string (nullable = true)\n",
      " |-- TAXCODE: string (nullable = true)\n",
      " |-- ASSTLANDVAL: string (nullable = true)\n",
      " |-- ASSTIMPVAL: string (nullable = true)\n",
      " |-- TOTASSMT: string (nullable = true)\n",
      " |-- APPLANDVAL: string (nullable = true)\n",
      " |-- APPIMPVAL: string (nullable = true)\n",
      " |-- TOTAPVAL: string (nullable = true)\n",
      " |-- PROPCLASS: string (nullable = true)\n",
      " |-- LUC: string (nullable = true)\n",
      " |-- LANDUSE2: string (nullable = true)\n",
      " |-- LUCODE: string (nullable = true)\n",
      " |-- TENURE: string (nullable = true)\n",
      " |-- LIVUNIT: integer (nullable = true)\n",
      " |-- YEARBLT: integer (nullable = true)\n",
      " |-- RESQFT: string (nullable = true)\n",
      " |-- COMSTRUC: string (nullable = true)\n",
      " |-- DEEDBKPG: string (nullable = true)\n",
      " |-- RECDATEDAILY: string (nullable = true)\n",
      " |-- ASRBKPG: string (nullable = true)\n",
      " |-- DEEDTYPE: string (nullable = true)\n",
      " |-- ACRES: string (nullable = true)\n",
      " |-- BLOCKNUM: string (nullable = true)\n",
      " |-- LOTNUM: string (nullable = true)\n",
      " |-- LOTDIM: string (nullable = true)\n",
      " |-- LOTFRONT: string (nullable = true)\n",
      " |-- LOTDEPTH: string (nullable = true)\n",
      " |-- LEGAL: string (nullable = true)\n",
      " |-- CAREOF: string (nullable = true)\n",
      " |-- NBHD: string (nullable = true)\n",
      " |-- LANDUSE3: integer (nullable = true)\n",
      " |-- BLDGNAME: string (nullable = true)\n",
      " |-- TWP: string (nullable = true)\n",
      " |-- TWPNAME: string (nullable = true)\n",
      " |-- MUNICIPALITY: string (nullable = true)\n",
      " |-- COUNTY_COUNCIL: integer (nullable = true)\n",
      " |-- FIRE_DISTRICT: string (nullable = true)\n",
      " |-- SCHOOLCODE: integer (nullable = true)\n",
      " |-- SCHOOL_DISTRICT: string (nullable = true)\n",
      " |-- SPECIAL_SCHOOL: integer (nullable = true)\n",
      " |-- JR_COLLEGE: integer (nullable = true)\n",
      " |-- LIBRARY_DISTRICT: string (nullable = true)\n",
      " |-- LIGHT_DISTRICT: string (nullable = true)\n",
      " |-- MUNI_WARD: string (nullable = true)\n",
      " |-- STATE_REP: integer (nullable = true)\n",
      " |-- STATE_SENATE: integer (nullable = true)\n",
      " |-- US_CONGRESS: integer (nullable = true)\n",
      " |-- CENSUS_TRACT: string (nullable = true)\n",
      " |-- CENSUS_BLOCKGROUP: string (nullable = true)\n",
      " |-- FIRM_PANEL: string (nullable = true)\n",
      " |-- ZONING: string (nullable = true)\n",
      " |-- MUNI_ZONING: string (nullable = true)\n",
      " |-- TRASH_DISTRICT: integer (nullable = true)\n",
      " |-- TRASH_OPTOUT: string (nullable = true)\n",
      " |-- COGIS: string (nullable = true)\n",
      " |-- CODE_ENFORCEMENT_DISTRICT: integer (nullable = true)\n",
      " |-- PMZ_NEIGHBORHOOD: string (nullable = true)\n",
      " |-- geometry.rings: string (nullable = true)\n",
      "\n"
     ]
    }
   ],
   "source": [
    "sdf.printSchema()"
   ]
  },
  {
   "cell_type": "code",
   "execution_count": null,
   "id": "8a2abe62-1fe9-4708-8ea6-62c71272e423",
   "metadata": {},
   "outputs": [],
   "source": []
  },
  {
   "cell_type": "code",
   "execution_count": null,
   "id": "56875fad-0d73-478a-9d62-5e4bf1384408",
   "metadata": {},
   "outputs": [],
   "source": []
  },
  {
   "cell_type": "code",
   "execution_count": null,
   "id": "238f8fac-41e2-40ec-b997-194058bbb226",
   "metadata": {},
   "outputs": [],
   "source": []
  }
 ],
 "metadata": {
  "kernelspec": {
   "display_name": "Python 3 (ipykernel)",
   "language": "python",
   "name": "python3"
  },
  "language_info": {
   "codemirror_mode": {
    "name": "ipython",
    "version": 3
   },
   "file_extension": ".py",
   "mimetype": "text/x-python",
   "name": "python",
   "nbconvert_exporter": "python",
   "pygments_lexer": "ipython3",
   "version": "3.9.7"
  }
 },
 "nbformat": 4,
 "nbformat_minor": 5
}
